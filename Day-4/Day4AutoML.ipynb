{
  "cells": [
    {
      "cell_type": "code",
      "execution_count": null,
      "metadata": {
        "id": "Z7oPun7ct7Ko"
      },
      "outputs": [],
      "source": [
        "!git clone \"https://github.com/IEEE-CISCodeCraft/Machine-Learning-Simplified.git\""
      ]
    },
    {
      "cell_type": "code",
      "source": [
        "!pip install pycaret"
      ],
      "metadata": {
        "id": "Dr8ajra9u_rf"
      },
      "execution_count": 26,
      "outputs": []
    },
    {
      "cell_type": "code",
      "source": [
        "import pandas as pd\n",
        "import numpy as np\n",
        "import seaborn as sns\n",
        "from pycaret.classification import *\n",
        "from sklearn.model_selection import train_test_split\n",
        "from sklearn.preprocessing import OneHotEncoder, MinMaxScaler\n",
        "from sklearn.metrics import accuracy_score, classification_report\n",
        "import matplotlib.pyplot as plt\n",
        "import seaborn as sns"
      ],
      "metadata": {
        "id": "wCXCkNPDvCj7"
      },
      "execution_count": 44,
      "outputs": []
    },
    {
      "cell_type": "code",
      "source": [
        "#Read the dataset as pandas Dataframe\n",
        "data = pd.read_csv(\"/content/Machine-Learning-Simplified/Day-4/heart.csv\")"
      ],
      "metadata": {
        "id": "L4clwroEvGKU"
      },
      "execution_count": 28,
      "outputs": []
    },
    {
      "cell_type": "code",
      "source": [
        "# Print the data"
      ],
      "metadata": {
        "id": "kQpSDVneveFM"
      },
      "execution_count": null,
      "outputs": []
    },
    {
      "cell_type": "code",
      "source": [
        "# Get insights of Data"
      ],
      "metadata": {
        "id": "CR4mtkWUvgt0"
      },
      "execution_count": null,
      "outputs": []
    },
    {
      "cell_type": "code",
      "source": [
        "# Search for any NULL values"
      ],
      "metadata": {
        "id": "im1UjI2kviAb"
      },
      "execution_count": null,
      "outputs": []
    },
    {
      "cell_type": "code",
      "source": [
        "# Separate features (X) and target (y)"
      ],
      "metadata": {
        "id": "X8y9AKqLvjKH"
      },
      "execution_count": 32,
      "outputs": []
    },
    {
      "cell_type": "code",
      "source": [
        "# Encode categorical variables"
      ],
      "metadata": {
        "id": "Purpf4UevlFB"
      },
      "execution_count": 33,
      "outputs": []
    },
    {
      "cell_type": "code",
      "source": [
        "# Create a DataFrame with encoded features"
      ],
      "metadata": {
        "id": "N9-0HHCDvmLv"
      },
      "execution_count": 34,
      "outputs": []
    },
    {
      "cell_type": "code",
      "source": [
        "# Concatenate encoded features with remaining numerical features"
      ],
      "metadata": {
        "id": "NRHd0v8TvnVw"
      },
      "execution_count": 35,
      "outputs": []
    },
    {
      "cell_type": "code",
      "source": [
        "# Normalize numerical features"
      ],
      "metadata": {
        "id": "VrLJ2HT7vozi"
      },
      "execution_count": 36,
      "outputs": []
    },
    {
      "cell_type": "code",
      "source": [
        "# Convert numpy array back to DataFrame with correct column names"
      ],
      "metadata": {
        "id": "Q2kPWrT1vp8-"
      },
      "execution_count": 37,
      "outputs": []
    },
    {
      "cell_type": "code",
      "source": [
        "# Split the data into training and testing sets"
      ],
      "metadata": {
        "id": "xxdTJyObvrKc"
      },
      "execution_count": 38,
      "outputs": []
    },
    {
      "cell_type": "code",
      "source": [
        "# Set up the PyCaret experiment"
      ],
      "metadata": {
        "id": "nFz8HaQfvsaV"
      },
      "execution_count": null,
      "outputs": []
    },
    {
      "cell_type": "code",
      "source": [
        "# Compare various models"
      ],
      "metadata": {
        "id": "Ei3VFyIlvttp"
      },
      "execution_count": null,
      "outputs": []
    },
    {
      "cell_type": "code",
      "source": [
        "# Fine-tune the best model"
      ],
      "metadata": {
        "id": "7AX-6jEFvvT9"
      },
      "execution_count": null,
      "outputs": []
    },
    {
      "cell_type": "code",
      "source": [
        "# Finalize the best model"
      ],
      "metadata": {
        "id": "IdQ9uXKNvw_h"
      },
      "execution_count": 42,
      "outputs": []
    },
    {
      "cell_type": "code",
      "source": [
        "# Evaluate model using different graphs"
      ],
      "metadata": {
        "id": "I7gRwaOTvy-1"
      },
      "execution_count": null,
      "outputs": []
    },
    {
      "cell_type": "code",
      "source": [
        "# Make predictions using the final model\n",
        "predictions = predict_model(final_model, data=X_test)\n",
        "\n",
        "# Calculate the confusion matrix\n",
        "confusion_matrix = pd.crosstab(predictions['prediction_label'], y_test, rownames=['Predicted'], colnames=['Actual'])\n",
        "\n",
        "# Plot the confusion matrix using Seaborn's heatmap\n",
        "plt.figure(figsize=(8, 6))\n",
        "sns.heatmap(confusion_matrix, annot=True, fmt='d', cmap='Blues')\n",
        "plt.title('Confusion Matrix')\n",
        "plt.show()"
      ],
      "metadata": {
        "id": "pLfU_T0EwAZB"
      },
      "execution_count": null,
      "outputs": []
    }
  ],
  "metadata": {
    "language_info": {
      "name": "python"
    },
    "orig_nbformat": 4,
    "colab": {
      "provenance": []
    },
    "kernelspec": {
      "name": "python3",
      "display_name": "Python 3"
    }
  },
  "nbformat": 4,
  "nbformat_minor": 0
}